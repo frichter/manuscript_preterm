{
 "metadata": {
  "language_info": {
   "codemirror_mode": {
    "name": "ipython",
    "version": 3
   },
   "file_extension": ".py",
   "mimetype": "text/x-python",
   "name": "python",
   "nbconvert_exporter": "python",
   "pygments_lexer": "ipython3",
   "version": "3.6.5-final"
  },
  "orig_nbformat": 2,
  "kernelspec": {
   "name": "python36564bitvenvnicuvenve91f37af9599480faf4a1ed6e8f71e61",
   "display_name": "Python 3.6.5 64-bit ('.venv_nicu': venv)"
  }
 },
 "nbformat": 4,
 "nbformat_minor": 2,
 "cells": [
  {
   "cell_type": "markdown",
   "metadata": {},
   "source": [
    "# Generate counts dataframes for plotting in R"
   ]
  },
  {
   "cell_type": "code",
   "execution_count": 52,
   "metadata": {},
   "outputs": [],
   "source": [
    "import itertools\n",
    "\n",
    "import pandas as pd\n",
    "import numpy as np\n",
    "import matplotlib.pyplot as plt\n",
    "from scipy.stats import chi2_contingency, fisher_exact, ranksums, ttest_ind\n",
    "import seaborn as sns\n",
    "%matplotlib inline\n"
   ]
  },
  {
   "cell_type": "code",
   "execution_count": 32,
   "metadata": {},
   "outputs": [],
   "source": [
    "DATA_DIR = '/Users/felixrichter/Documents/patient_data/nicu_patient_data_2/'\n",
    "DEID_DATA_DIR = '/Users/felixrichter/Dropbox/PhD/nicu_projects/manuscript_preterm/Data/'\n",
    "MERGED_LOC = DATA_DIR + '2020_09_29/birth_df_2020_09_21.tsv'\n",
    "dt_cols = ['BIRTH_DATE', 'DEATH_DATE', 'LOS']\n",
    "birth_df = pd.read_table(MERGED_LOC, low_memory=False, parse_dates=dt_cols, dtype={'ZIP':str})\n",
    "birth_df['LOS'] = pd.to_timedelta(birth_df['LOS'])\n"
   ]
  },
  {
   "cell_type": "markdown",
   "metadata": {},
   "source": [
    "## Counts for rate"
   ]
  },
  {
   "cell_type": "code",
   "execution_count": 3,
   "metadata": {},
   "outputs": [],
   "source": [
    "analysis_df = birth_df.loc[birth_df.lockdown_group != 'precovid']\n",
    "# ~analysis_df.lockdown_group.str.contains('precovid'), \n",
    "count_df_ga = analysis_df[['PAT_ID']].groupby([analysis_df.GA_category, analysis_df.BIRTH_YEAR]).count().reset_index().rename(columns={'PAT_ID': 'Births'})\n",
    "count_df_bw = analysis_df[['PAT_ID']].groupby([analysis_df.BW_category, analysis_df.BIRTH_YEAR]).count().reset_index().rename(columns={'PAT_ID': 'Births'})"
   ]
  },
  {
   "cell_type": "code",
   "execution_count": 4,
   "metadata": {},
   "outputs": [
    {
     "output_type": "execute_result",
     "data": {
      "text/plain": "                GA_category  BIRTH_YEAR  Births\n0       Extremely premature        2012      10\n1       Extremely premature        2013       5\n2       Extremely premature        2014      10\n3       Extremely premature        2015      15\n4       Extremely premature        2016      16\n5       Extremely premature        2017      12\n6       Extremely premature        2018      14\n7       Extremely premature        2019      10\n8       Extremely premature        2020       5\n9                 Late term        2012      10\n10                Late term        2013      10\n11                Late term        2014       6\n12                Late term        2015      10\n13                Late term        2016      11\n14                Late term        2017       4\n15                Late term        2018       8\n16                Late term        2019       2\n17                Late term        2020       3\n18  Moderate/late premature        2012     166\n19  Moderate/late premature        2013     156\n20  Moderate/late premature        2014     218\n21  Moderate/late premature        2015     209\n22  Moderate/late premature        2016     242\n23  Moderate/late premature        2017     236\n24  Moderate/late premature        2018     217\n25  Moderate/late premature        2019     212\n26  Moderate/late premature        2020     201\n27             Not recorded        2012     423\n28             Not recorded        2013     418\n29             Not recorded        2014     449\n30             Not recorded        2015     385\n31             Not recorded        2016      66\n32             Not recorded        2017      40\n33             Not recorded        2018      50\n34             Not recorded        2019      39\n35             Not recorded        2020      30\n36                     Term        2012    2479\n37                     Term        2013    2709\n38                     Term        2014    2857\n39                     Term        2015    3136\n40                     Term        2016    3511\n41                     Term        2017    3433\n42                     Term        2018    3630\n43                     Term        2019    3655\n44                     Term        2020    3350\n45           Very premature        2012      24\n46           Very premature        2013      14\n47           Very premature        2014      17\n48           Very premature        2015      15\n49           Very premature        2016      18\n50           Very premature        2017      26\n51           Very premature        2018      18\n52           Very premature        2019      16\n53           Very premature        2020      14",
      "text/html": "<div>\n<style scoped>\n    .dataframe tbody tr th:only-of-type {\n        vertical-align: middle;\n    }\n\n    .dataframe tbody tr th {\n        vertical-align: top;\n    }\n\n    .dataframe thead th {\n        text-align: right;\n    }\n</style>\n<table border=\"1\" class=\"dataframe\">\n  <thead>\n    <tr style=\"text-align: right;\">\n      <th></th>\n      <th>GA_category</th>\n      <th>BIRTH_YEAR</th>\n      <th>Births</th>\n    </tr>\n  </thead>\n  <tbody>\n    <tr>\n      <th>0</th>\n      <td>Extremely premature</td>\n      <td>2012</td>\n      <td>10</td>\n    </tr>\n    <tr>\n      <th>1</th>\n      <td>Extremely premature</td>\n      <td>2013</td>\n      <td>5</td>\n    </tr>\n    <tr>\n      <th>2</th>\n      <td>Extremely premature</td>\n      <td>2014</td>\n      <td>10</td>\n    </tr>\n    <tr>\n      <th>3</th>\n      <td>Extremely premature</td>\n      <td>2015</td>\n      <td>15</td>\n    </tr>\n    <tr>\n      <th>4</th>\n      <td>Extremely premature</td>\n      <td>2016</td>\n      <td>16</td>\n    </tr>\n    <tr>\n      <th>5</th>\n      <td>Extremely premature</td>\n      <td>2017</td>\n      <td>12</td>\n    </tr>\n    <tr>\n      <th>6</th>\n      <td>Extremely premature</td>\n      <td>2018</td>\n      <td>14</td>\n    </tr>\n    <tr>\n      <th>7</th>\n      <td>Extremely premature</td>\n      <td>2019</td>\n      <td>10</td>\n    </tr>\n    <tr>\n      <th>8</th>\n      <td>Extremely premature</td>\n      <td>2020</td>\n      <td>5</td>\n    </tr>\n    <tr>\n      <th>9</th>\n      <td>Late term</td>\n      <td>2012</td>\n      <td>10</td>\n    </tr>\n    <tr>\n      <th>10</th>\n      <td>Late term</td>\n      <td>2013</td>\n      <td>10</td>\n    </tr>\n    <tr>\n      <th>11</th>\n      <td>Late term</td>\n      <td>2014</td>\n      <td>6</td>\n    </tr>\n    <tr>\n      <th>12</th>\n      <td>Late term</td>\n      <td>2015</td>\n      <td>10</td>\n    </tr>\n    <tr>\n      <th>13</th>\n      <td>Late term</td>\n      <td>2016</td>\n      <td>11</td>\n    </tr>\n    <tr>\n      <th>14</th>\n      <td>Late term</td>\n      <td>2017</td>\n      <td>4</td>\n    </tr>\n    <tr>\n      <th>15</th>\n      <td>Late term</td>\n      <td>2018</td>\n      <td>8</td>\n    </tr>\n    <tr>\n      <th>16</th>\n      <td>Late term</td>\n      <td>2019</td>\n      <td>2</td>\n    </tr>\n    <tr>\n      <th>17</th>\n      <td>Late term</td>\n      <td>2020</td>\n      <td>3</td>\n    </tr>\n    <tr>\n      <th>18</th>\n      <td>Moderate/late premature</td>\n      <td>2012</td>\n      <td>166</td>\n    </tr>\n    <tr>\n      <th>19</th>\n      <td>Moderate/late premature</td>\n      <td>2013</td>\n      <td>156</td>\n    </tr>\n    <tr>\n      <th>20</th>\n      <td>Moderate/late premature</td>\n      <td>2014</td>\n      <td>218</td>\n    </tr>\n    <tr>\n      <th>21</th>\n      <td>Moderate/late premature</td>\n      <td>2015</td>\n      <td>209</td>\n    </tr>\n    <tr>\n      <th>22</th>\n      <td>Moderate/late premature</td>\n      <td>2016</td>\n      <td>242</td>\n    </tr>\n    <tr>\n      <th>23</th>\n      <td>Moderate/late premature</td>\n      <td>2017</td>\n      <td>236</td>\n    </tr>\n    <tr>\n      <th>24</th>\n      <td>Moderate/late premature</td>\n      <td>2018</td>\n      <td>217</td>\n    </tr>\n    <tr>\n      <th>25</th>\n      <td>Moderate/late premature</td>\n      <td>2019</td>\n      <td>212</td>\n    </tr>\n    <tr>\n      <th>26</th>\n      <td>Moderate/late premature</td>\n      <td>2020</td>\n      <td>201</td>\n    </tr>\n    <tr>\n      <th>27</th>\n      <td>Not recorded</td>\n      <td>2012</td>\n      <td>423</td>\n    </tr>\n    <tr>\n      <th>28</th>\n      <td>Not recorded</td>\n      <td>2013</td>\n      <td>418</td>\n    </tr>\n    <tr>\n      <th>29</th>\n      <td>Not recorded</td>\n      <td>2014</td>\n      <td>449</td>\n    </tr>\n    <tr>\n      <th>30</th>\n      <td>Not recorded</td>\n      <td>2015</td>\n      <td>385</td>\n    </tr>\n    <tr>\n      <th>31</th>\n      <td>Not recorded</td>\n      <td>2016</td>\n      <td>66</td>\n    </tr>\n    <tr>\n      <th>32</th>\n      <td>Not recorded</td>\n      <td>2017</td>\n      <td>40</td>\n    </tr>\n    <tr>\n      <th>33</th>\n      <td>Not recorded</td>\n      <td>2018</td>\n      <td>50</td>\n    </tr>\n    <tr>\n      <th>34</th>\n      <td>Not recorded</td>\n      <td>2019</td>\n      <td>39</td>\n    </tr>\n    <tr>\n      <th>35</th>\n      <td>Not recorded</td>\n      <td>2020</td>\n      <td>30</td>\n    </tr>\n    <tr>\n      <th>36</th>\n      <td>Term</td>\n      <td>2012</td>\n      <td>2479</td>\n    </tr>\n    <tr>\n      <th>37</th>\n      <td>Term</td>\n      <td>2013</td>\n      <td>2709</td>\n    </tr>\n    <tr>\n      <th>38</th>\n      <td>Term</td>\n      <td>2014</td>\n      <td>2857</td>\n    </tr>\n    <tr>\n      <th>39</th>\n      <td>Term</td>\n      <td>2015</td>\n      <td>3136</td>\n    </tr>\n    <tr>\n      <th>40</th>\n      <td>Term</td>\n      <td>2016</td>\n      <td>3511</td>\n    </tr>\n    <tr>\n      <th>41</th>\n      <td>Term</td>\n      <td>2017</td>\n      <td>3433</td>\n    </tr>\n    <tr>\n      <th>42</th>\n      <td>Term</td>\n      <td>2018</td>\n      <td>3630</td>\n    </tr>\n    <tr>\n      <th>43</th>\n      <td>Term</td>\n      <td>2019</td>\n      <td>3655</td>\n    </tr>\n    <tr>\n      <th>44</th>\n      <td>Term</td>\n      <td>2020</td>\n      <td>3350</td>\n    </tr>\n    <tr>\n      <th>45</th>\n      <td>Very premature</td>\n      <td>2012</td>\n      <td>24</td>\n    </tr>\n    <tr>\n      <th>46</th>\n      <td>Very premature</td>\n      <td>2013</td>\n      <td>14</td>\n    </tr>\n    <tr>\n      <th>47</th>\n      <td>Very premature</td>\n      <td>2014</td>\n      <td>17</td>\n    </tr>\n    <tr>\n      <th>48</th>\n      <td>Very premature</td>\n      <td>2015</td>\n      <td>15</td>\n    </tr>\n    <tr>\n      <th>49</th>\n      <td>Very premature</td>\n      <td>2016</td>\n      <td>18</td>\n    </tr>\n    <tr>\n      <th>50</th>\n      <td>Very premature</td>\n      <td>2017</td>\n      <td>26</td>\n    </tr>\n    <tr>\n      <th>51</th>\n      <td>Very premature</td>\n      <td>2018</td>\n      <td>18</td>\n    </tr>\n    <tr>\n      <th>52</th>\n      <td>Very premature</td>\n      <td>2019</td>\n      <td>16</td>\n    </tr>\n    <tr>\n      <th>53</th>\n      <td>Very premature</td>\n      <td>2020</td>\n      <td>14</td>\n    </tr>\n  </tbody>\n</table>\n</div>"
     },
     "metadata": {},
     "execution_count": 4
    }
   ],
   "source": [
    "count_df_ga"
   ]
  },
  {
   "cell_type": "code",
   "execution_count": 5,
   "metadata": {},
   "outputs": [],
   "source": [
    "count_df_ga.to_csv(DEID_DATA_DIR + 'count_df_GA.tsv', sep='\\t', index=False)\n",
    "count_df_bw.to_csv(DEID_DATA_DIR + 'count_df_BW.tsv', sep='\\t', index=False)"
   ]
  },
  {
   "cell_type": "markdown",
   "metadata": {},
   "source": [
    "## Counts for Geography"
   ]
  },
  {
   "cell_type": "code",
   "execution_count": 6,
   "metadata": {},
   "outputs": [],
   "source": [
    "analysis_df = birth_df.loc[birth_df.lockdown_group != 'precovid']\n",
    "count_df_geo = analysis_df[['PAT_ID']].groupby([analysis_df.Borough, analysis_df.BIRTH_YEAR]).count().reset_index().rename(columns={'PAT_ID': 'Births'})\n"
   ]
  },
  {
   "cell_type": "code",
   "execution_count": 7,
   "metadata": {},
   "outputs": [],
   "source": [
    "# percent by year\n",
    "c = count_df_geo.groupby(['BIRTH_YEAR', 'Borough'])['Births'].sum().rename(\"count\")\n",
    "pct_df = c / c.groupby(level=0).sum()\n",
    "pct_df = pct_df.reset_index()"
   ]
  },
  {
   "cell_type": "code",
   "execution_count": 8,
   "metadata": {},
   "outputs": [],
   "source": [
    "pct_df.to_csv(DEID_DATA_DIR + 'pct_df_GEO.tsv', sep='\\t', index=False)"
   ]
  },
  {
   "cell_type": "markdown",
   "metadata": {},
   "source": [
    "## Counts for NICU admissions and mortality"
   ]
  },
  {
   "cell_type": "code",
   "execution_count": 9,
   "metadata": {},
   "outputs": [],
   "source": [
    "analysis_df = birth_df.loc[birth_df.lockdown_group != 'precovid']\n",
    "count_df_total = analysis_df[['PAT_ID']].groupby([analysis_df.BIRTH_YEAR]).count().reset_index().rename(columns={'PAT_ID': 'Births'})\n",
    "# count_df_total\n",
    "count_df_total.to_csv(DEID_DATA_DIR + 'count_df_yearly.tsv', sep='\\t', index=False)\n"
   ]
  },
  {
   "cell_type": "code",
   "execution_count": 14,
   "metadata": {},
   "outputs": [
    {
     "output_type": "execute_result",
     "data": {
      "text/plain": "8    3603\nName: Births, dtype: int64"
     },
     "metadata": {},
     "execution_count": 14
    }
   ],
   "source": []
  },
  {
   "cell_type": "code",
   "execution_count": 10,
   "metadata": {
    "tags": []
   },
   "outputs": [
    {
     "output_type": "stream",
     "name": "stdout",
     "text": "3603\n3934\n-331\n"
    },
    {
     "output_type": "execute_result",
     "data": {
      "text/plain": "0.08413828164717845"
     },
     "metadata": {},
     "execution_count": 10
    }
   ],
   "source": [
    "b2020 = pd.to_numeric(count_df_total.loc[count_df_total.BIRTH_YEAR == 2020, 'Births'].values[0])\n",
    "b2019 = pd.to_numeric(count_df_total.loc[count_df_total.BIRTH_YEAR == 2019, 'Births'].values[0])\n",
    "print(b2020)\n",
    "print(b2019)\n",
    "print(b2020 - b2019)\n",
    "(b2019 - b2020)/b2019"
   ]
  },
  {
   "cell_type": "code",
   "execution_count": 11,
   "metadata": {
    "tags": []
   },
   "outputs": [
    {
     "output_type": "stream",
     "name": "stdout",
     "text": "(61778, 21)\n(61778,)\n"
    }
   ],
   "source": [
    "# just triple checking that there aren't any babies admitted to both WBN and NICU\n",
    "print(birth_df.shape)\n",
    "print(birth_df.Y_MRN.drop_duplicates().shape)"
   ]
  },
  {
   "cell_type": "code",
   "execution_count": 12,
   "metadata": {},
   "outputs": [
    {
     "output_type": "execute_result",
     "data": {
      "text/plain": "    BIRTH_YEAR DEPARTMENT  births_pct  Births\n0         2012       NICU    0.065553     204\n1         2012        WBN    0.934447    2908\n2         2013       NICU    0.050423     167\n3         2013        WBN    0.949577    3145\n4         2014       NICU    0.064380     229\n5         2014        WBN    0.935620    3328\n6         2015       NICU    0.067374     254\n7         2015        WBN    0.932626    3516\n8         2016       NICU    0.053313     206\n9         2016        WBN    0.946687    3658\n10        2017       NICU    0.060251     226\n11        2017        WBN    0.939749    3525\n12        2018       NICU    0.070104     276\n13        2018        WBN    0.929896    3661\n14        2019       NICU    0.069903     275\n15        2019        WBN    0.930097    3659\n16        2020       NICU    0.079656     287\n17        2020        WBN    0.920344    3316",
      "text/html": "<div>\n<style scoped>\n    .dataframe tbody tr th:only-of-type {\n        vertical-align: middle;\n    }\n\n    .dataframe tbody tr th {\n        vertical-align: top;\n    }\n\n    .dataframe thead th {\n        text-align: right;\n    }\n</style>\n<table border=\"1\" class=\"dataframe\">\n  <thead>\n    <tr style=\"text-align: right;\">\n      <th></th>\n      <th>BIRTH_YEAR</th>\n      <th>DEPARTMENT</th>\n      <th>births_pct</th>\n      <th>Births</th>\n    </tr>\n  </thead>\n  <tbody>\n    <tr>\n      <th>0</th>\n      <td>2012</td>\n      <td>NICU</td>\n      <td>0.065553</td>\n      <td>204</td>\n    </tr>\n    <tr>\n      <th>1</th>\n      <td>2012</td>\n      <td>WBN</td>\n      <td>0.934447</td>\n      <td>2908</td>\n    </tr>\n    <tr>\n      <th>2</th>\n      <td>2013</td>\n      <td>NICU</td>\n      <td>0.050423</td>\n      <td>167</td>\n    </tr>\n    <tr>\n      <th>3</th>\n      <td>2013</td>\n      <td>WBN</td>\n      <td>0.949577</td>\n      <td>3145</td>\n    </tr>\n    <tr>\n      <th>4</th>\n      <td>2014</td>\n      <td>NICU</td>\n      <td>0.064380</td>\n      <td>229</td>\n    </tr>\n    <tr>\n      <th>5</th>\n      <td>2014</td>\n      <td>WBN</td>\n      <td>0.935620</td>\n      <td>3328</td>\n    </tr>\n    <tr>\n      <th>6</th>\n      <td>2015</td>\n      <td>NICU</td>\n      <td>0.067374</td>\n      <td>254</td>\n    </tr>\n    <tr>\n      <th>7</th>\n      <td>2015</td>\n      <td>WBN</td>\n      <td>0.932626</td>\n      <td>3516</td>\n    </tr>\n    <tr>\n      <th>8</th>\n      <td>2016</td>\n      <td>NICU</td>\n      <td>0.053313</td>\n      <td>206</td>\n    </tr>\n    <tr>\n      <th>9</th>\n      <td>2016</td>\n      <td>WBN</td>\n      <td>0.946687</td>\n      <td>3658</td>\n    </tr>\n    <tr>\n      <th>10</th>\n      <td>2017</td>\n      <td>NICU</td>\n      <td>0.060251</td>\n      <td>226</td>\n    </tr>\n    <tr>\n      <th>11</th>\n      <td>2017</td>\n      <td>WBN</td>\n      <td>0.939749</td>\n      <td>3525</td>\n    </tr>\n    <tr>\n      <th>12</th>\n      <td>2018</td>\n      <td>NICU</td>\n      <td>0.070104</td>\n      <td>276</td>\n    </tr>\n    <tr>\n      <th>13</th>\n      <td>2018</td>\n      <td>WBN</td>\n      <td>0.929896</td>\n      <td>3661</td>\n    </tr>\n    <tr>\n      <th>14</th>\n      <td>2019</td>\n      <td>NICU</td>\n      <td>0.069903</td>\n      <td>275</td>\n    </tr>\n    <tr>\n      <th>15</th>\n      <td>2019</td>\n      <td>WBN</td>\n      <td>0.930097</td>\n      <td>3659</td>\n    </tr>\n    <tr>\n      <th>16</th>\n      <td>2020</td>\n      <td>NICU</td>\n      <td>0.079656</td>\n      <td>287</td>\n    </tr>\n    <tr>\n      <th>17</th>\n      <td>2020</td>\n      <td>WBN</td>\n      <td>0.920344</td>\n      <td>3316</td>\n    </tr>\n  </tbody>\n</table>\n</div>"
     },
     "metadata": {},
     "execution_count": 12
    }
   ],
   "source": [
    "analysis_df = birth_df.loc[birth_df.lockdown_group != 'precovid']\n",
    "count_df_nicu = analysis_df[['PAT_ID']].groupby([analysis_df.BIRTH_YEAR, analysis_df.DEPARTMENT]).count().reset_index().rename(columns={'PAT_ID': 'Births'})\n",
    "\n",
    "count_df_nicu\n",
    "c = count_df_nicu.groupby(['BIRTH_YEAR', 'DEPARTMENT'])['Births'].sum().rename(\"births_pct\")\n",
    "pct_df = c / c.groupby(level=0).sum()\n",
    "pct_df = pct_df.reset_index()\n",
    "pct_df['Births'] = count_df_nicu.Births\n",
    "pct_df.to_csv(DEID_DATA_DIR + 'nicu_births.tsv', sep='\\t', index=False)\n",
    "\n",
    "pct_df"
   ]
  },
  {
   "cell_type": "code",
   "execution_count": 13,
   "metadata": {},
   "outputs": [
    {
     "output_type": "execute_result",
     "data": {
      "text/plain": "    BIRTH_YEAR  Deceased  births_pct  Births\n0         2012     False    0.997429    3104\n1         2012      True    0.002571       8\n2         2013     False    0.997585    3304\n3         2013      True    0.002415       8\n4         2014     False    0.999438    3555\n5         2014      True    0.000562       2\n6         2015     False    0.996817    3758\n7         2015      True    0.003183      12\n8         2016     False    0.998188    3857\n9         2016      True    0.001812       7\n10        2017     False    0.998134    3744\n11        2017      True    0.001866       7\n12        2018     False    0.997968    3929\n13        2018      True    0.002032       8\n14        2019     False    0.997712    3925\n15        2019      True    0.002288       9\n16        2020     False    0.999167    3600\n17        2020      True    0.000833       3",
      "text/html": "<div>\n<style scoped>\n    .dataframe tbody tr th:only-of-type {\n        vertical-align: middle;\n    }\n\n    .dataframe tbody tr th {\n        vertical-align: top;\n    }\n\n    .dataframe thead th {\n        text-align: right;\n    }\n</style>\n<table border=\"1\" class=\"dataframe\">\n  <thead>\n    <tr style=\"text-align: right;\">\n      <th></th>\n      <th>BIRTH_YEAR</th>\n      <th>Deceased</th>\n      <th>births_pct</th>\n      <th>Births</th>\n    </tr>\n  </thead>\n  <tbody>\n    <tr>\n      <th>0</th>\n      <td>2012</td>\n      <td>False</td>\n      <td>0.997429</td>\n      <td>3104</td>\n    </tr>\n    <tr>\n      <th>1</th>\n      <td>2012</td>\n      <td>True</td>\n      <td>0.002571</td>\n      <td>8</td>\n    </tr>\n    <tr>\n      <th>2</th>\n      <td>2013</td>\n      <td>False</td>\n      <td>0.997585</td>\n      <td>3304</td>\n    </tr>\n    <tr>\n      <th>3</th>\n      <td>2013</td>\n      <td>True</td>\n      <td>0.002415</td>\n      <td>8</td>\n    </tr>\n    <tr>\n      <th>4</th>\n      <td>2014</td>\n      <td>False</td>\n      <td>0.999438</td>\n      <td>3555</td>\n    </tr>\n    <tr>\n      <th>5</th>\n      <td>2014</td>\n      <td>True</td>\n      <td>0.000562</td>\n      <td>2</td>\n    </tr>\n    <tr>\n      <th>6</th>\n      <td>2015</td>\n      <td>False</td>\n      <td>0.996817</td>\n      <td>3758</td>\n    </tr>\n    <tr>\n      <th>7</th>\n      <td>2015</td>\n      <td>True</td>\n      <td>0.003183</td>\n      <td>12</td>\n    </tr>\n    <tr>\n      <th>8</th>\n      <td>2016</td>\n      <td>False</td>\n      <td>0.998188</td>\n      <td>3857</td>\n    </tr>\n    <tr>\n      <th>9</th>\n      <td>2016</td>\n      <td>True</td>\n      <td>0.001812</td>\n      <td>7</td>\n    </tr>\n    <tr>\n      <th>10</th>\n      <td>2017</td>\n      <td>False</td>\n      <td>0.998134</td>\n      <td>3744</td>\n    </tr>\n    <tr>\n      <th>11</th>\n      <td>2017</td>\n      <td>True</td>\n      <td>0.001866</td>\n      <td>7</td>\n    </tr>\n    <tr>\n      <th>12</th>\n      <td>2018</td>\n      <td>False</td>\n      <td>0.997968</td>\n      <td>3929</td>\n    </tr>\n    <tr>\n      <th>13</th>\n      <td>2018</td>\n      <td>True</td>\n      <td>0.002032</td>\n      <td>8</td>\n    </tr>\n    <tr>\n      <th>14</th>\n      <td>2019</td>\n      <td>False</td>\n      <td>0.997712</td>\n      <td>3925</td>\n    </tr>\n    <tr>\n      <th>15</th>\n      <td>2019</td>\n      <td>True</td>\n      <td>0.002288</td>\n      <td>9</td>\n    </tr>\n    <tr>\n      <th>16</th>\n      <td>2020</td>\n      <td>False</td>\n      <td>0.999167</td>\n      <td>3600</td>\n    </tr>\n    <tr>\n      <th>17</th>\n      <td>2020</td>\n      <td>True</td>\n      <td>0.000833</td>\n      <td>3</td>\n    </tr>\n  </tbody>\n</table>\n</div>"
     },
     "metadata": {},
     "execution_count": 13
    }
   ],
   "source": [
    "analysis_df = birth_df.loc[birth_df.lockdown_group != 'precovid']\n",
    "count_df_mortality = analysis_df[['PAT_ID']].groupby([analysis_df.BIRTH_YEAR, ~birth_df.DEATH_DATE.isnull()\n",
    "]).count().reset_index().rename(columns={'PAT_ID': 'Births', 'DEATH_DATE': 'Deceased'})\n",
    "count_df_mortality\n",
    "c = count_df_mortality.groupby(['BIRTH_YEAR', 'Deceased'])['Births'].sum().rename(\"births_pct\")\n",
    "pct_df = c / c.groupby(level=0).sum()\n",
    "pct_df = pct_df.reset_index()\n",
    "pct_df['Births'] = count_df_mortality.Births\n",
    "pct_df.to_csv(DEID_DATA_DIR + 'mortality.tsv', sep='\\t', index=False)\n",
    "pct_df\n"
   ]
  },
  {
   "cell_type": "markdown",
   "metadata": {},
   "source": [
    "## Monthly counts and medians for NICU admission and mortality"
   ]
  },
  {
   "cell_type": "code",
   "execution_count": 14,
   "metadata": {},
   "outputs": [
    {
     "output_type": "execute_result",
     "data": {
      "text/plain": "    YEAR_2020  BIRTH_MONTH DEPARTMENT  births_pct\n0   2012-2019            3       NICU    0.062706\n1   2012-2019            3        WBN    0.937294\n2   2012-2019            4       NICU    0.053257\n3   2012-2019            4        WBN    0.946743\n4   2012-2019            5       NICU    0.060270\n5   2012-2019            5        WBN    0.939730\n6   2012-2019            6       NICU    0.063423\n7   2012-2019            6        WBN    0.936577\n8   2012-2019            7       NICU    0.065668\n9   2012-2019            7        WBN    0.934332\n10  2012-2019            8       NICU    0.067624\n11  2012-2019            8        WBN    0.932376\n12  2012-2019            9       NICU    0.057125\n13  2012-2019            9        WBN    0.942875\n14       2020            3       NICU    0.111801\n15       2020            3        WBN    0.888199\n16       2020            4       NICU    0.097070\n17       2020            4        WBN    0.902930\n18       2020            5       NICU    0.074205\n19       2020            5        WBN    0.925795\n20       2020            6       NICU    0.067151\n21       2020            6        WBN    0.932849\n22       2020            7       NICU    0.080696\n23       2020            7        WBN    0.919304\n24       2020            8       NICU    0.064725\n25       2020            8        WBN    0.935275\n26       2020            9       NICU    0.076087\n27       2020            9        WBN    0.923913",
      "text/html": "<div>\n<style scoped>\n    .dataframe tbody tr th:only-of-type {\n        vertical-align: middle;\n    }\n\n    .dataframe tbody tr th {\n        vertical-align: top;\n    }\n\n    .dataframe thead th {\n        text-align: right;\n    }\n</style>\n<table border=\"1\" class=\"dataframe\">\n  <thead>\n    <tr style=\"text-align: right;\">\n      <th></th>\n      <th>YEAR_2020</th>\n      <th>BIRTH_MONTH</th>\n      <th>DEPARTMENT</th>\n      <th>births_pct</th>\n    </tr>\n  </thead>\n  <tbody>\n    <tr>\n      <th>0</th>\n      <td>2012-2019</td>\n      <td>3</td>\n      <td>NICU</td>\n      <td>0.062706</td>\n    </tr>\n    <tr>\n      <th>1</th>\n      <td>2012-2019</td>\n      <td>3</td>\n      <td>WBN</td>\n      <td>0.937294</td>\n    </tr>\n    <tr>\n      <th>2</th>\n      <td>2012-2019</td>\n      <td>4</td>\n      <td>NICU</td>\n      <td>0.053257</td>\n    </tr>\n    <tr>\n      <th>3</th>\n      <td>2012-2019</td>\n      <td>4</td>\n      <td>WBN</td>\n      <td>0.946743</td>\n    </tr>\n    <tr>\n      <th>4</th>\n      <td>2012-2019</td>\n      <td>5</td>\n      <td>NICU</td>\n      <td>0.060270</td>\n    </tr>\n    <tr>\n      <th>5</th>\n      <td>2012-2019</td>\n      <td>5</td>\n      <td>WBN</td>\n      <td>0.939730</td>\n    </tr>\n    <tr>\n      <th>6</th>\n      <td>2012-2019</td>\n      <td>6</td>\n      <td>NICU</td>\n      <td>0.063423</td>\n    </tr>\n    <tr>\n      <th>7</th>\n      <td>2012-2019</td>\n      <td>6</td>\n      <td>WBN</td>\n      <td>0.936577</td>\n    </tr>\n    <tr>\n      <th>8</th>\n      <td>2012-2019</td>\n      <td>7</td>\n      <td>NICU</td>\n      <td>0.065668</td>\n    </tr>\n    <tr>\n      <th>9</th>\n      <td>2012-2019</td>\n      <td>7</td>\n      <td>WBN</td>\n      <td>0.934332</td>\n    </tr>\n    <tr>\n      <th>10</th>\n      <td>2012-2019</td>\n      <td>8</td>\n      <td>NICU</td>\n      <td>0.067624</td>\n    </tr>\n    <tr>\n      <th>11</th>\n      <td>2012-2019</td>\n      <td>8</td>\n      <td>WBN</td>\n      <td>0.932376</td>\n    </tr>\n    <tr>\n      <th>12</th>\n      <td>2012-2019</td>\n      <td>9</td>\n      <td>NICU</td>\n      <td>0.057125</td>\n    </tr>\n    <tr>\n      <th>13</th>\n      <td>2012-2019</td>\n      <td>9</td>\n      <td>WBN</td>\n      <td>0.942875</td>\n    </tr>\n    <tr>\n      <th>14</th>\n      <td>2020</td>\n      <td>3</td>\n      <td>NICU</td>\n      <td>0.111801</td>\n    </tr>\n    <tr>\n      <th>15</th>\n      <td>2020</td>\n      <td>3</td>\n      <td>WBN</td>\n      <td>0.888199</td>\n    </tr>\n    <tr>\n      <th>16</th>\n      <td>2020</td>\n      <td>4</td>\n      <td>NICU</td>\n      <td>0.097070</td>\n    </tr>\n    <tr>\n      <th>17</th>\n      <td>2020</td>\n      <td>4</td>\n      <td>WBN</td>\n      <td>0.902930</td>\n    </tr>\n    <tr>\n      <th>18</th>\n      <td>2020</td>\n      <td>5</td>\n      <td>NICU</td>\n      <td>0.074205</td>\n    </tr>\n    <tr>\n      <th>19</th>\n      <td>2020</td>\n      <td>5</td>\n      <td>WBN</td>\n      <td>0.925795</td>\n    </tr>\n    <tr>\n      <th>20</th>\n      <td>2020</td>\n      <td>6</td>\n      <td>NICU</td>\n      <td>0.067151</td>\n    </tr>\n    <tr>\n      <th>21</th>\n      <td>2020</td>\n      <td>6</td>\n      <td>WBN</td>\n      <td>0.932849</td>\n    </tr>\n    <tr>\n      <th>22</th>\n      <td>2020</td>\n      <td>7</td>\n      <td>NICU</td>\n      <td>0.080696</td>\n    </tr>\n    <tr>\n      <th>23</th>\n      <td>2020</td>\n      <td>7</td>\n      <td>WBN</td>\n      <td>0.919304</td>\n    </tr>\n    <tr>\n      <th>24</th>\n      <td>2020</td>\n      <td>8</td>\n      <td>NICU</td>\n      <td>0.064725</td>\n    </tr>\n    <tr>\n      <th>25</th>\n      <td>2020</td>\n      <td>8</td>\n      <td>WBN</td>\n      <td>0.935275</td>\n    </tr>\n    <tr>\n      <th>26</th>\n      <td>2020</td>\n      <td>9</td>\n      <td>NICU</td>\n      <td>0.076087</td>\n    </tr>\n    <tr>\n      <th>27</th>\n      <td>2020</td>\n      <td>9</td>\n      <td>WBN</td>\n      <td>0.923913</td>\n    </tr>\n  </tbody>\n</table>\n</div>"
     },
     "metadata": {},
     "execution_count": 14
    }
   ],
   "source": [
    "analysis_df = birth_df.loc[birth_df.lockdown_group != 'precovid']\n",
    "count_df_nicu = analysis_df[['PAT_ID']].groupby([analysis_df.BIRTH_YEAR, analysis_df.BIRTH_MONTH, analysis_df.DEPARTMENT]).count().reset_index().rename(columns={'PAT_ID': 'Births'})\n",
    "\n",
    "count_df_nicu\n",
    "c = count_df_nicu.groupby(['BIRTH_YEAR', 'BIRTH_MONTH', 'DEPARTMENT'])['Births'].sum().rename(\"births_pct\")\n",
    "pct_df = c / c.groupby(level=[0, 1]).sum()\n",
    "pct_df = pct_df.reset_index()\n",
    "pct_df['Births'] = count_df_nicu.Births\n",
    "pct_df['YEAR_2020'] = '2012-2019'\n",
    "pct_df.loc[pct_df.BIRTH_YEAR == 2020, 'YEAR_2020'] = '2020'\n",
    "pct_df_nicu = pct_df.groupby(['YEAR_2020', 'BIRTH_MONTH', 'DEPARTMENT'])['births_pct'].median().reset_index()\n",
    "# pct_df.to_csv(DEID_DATA_DIR + 'nicu_births_monthly.tsv', sep='\\t', index=False)\n",
    "pct_df_nicu\n",
    "\n"
   ]
  },
  {
   "cell_type": "code",
   "execution_count": 15,
   "metadata": {},
   "outputs": [
    {
     "output_type": "execute_result",
     "data": {
      "text/plain": "    YEAR_2020  BIRTH_MONTH  Deceased  births_pct\n0   2012-2019            3     False    0.998382\n1   2012-2019            3      True    0.003375\n2   2012-2019            4     False    0.997403\n3   2012-2019            4      True    0.003252\n4   2012-2019            5     False    0.998261\n5   2012-2019            5      True    0.003035\n6   2012-2019            6     False    0.997429\n7   2012-2019            6      True    0.003703\n8   2012-2019            7     False    0.998467\n9   2012-2019            7      True    0.001873\n10  2012-2019            8     False    0.997579\n11  2012-2019            8      True    0.003752\n12  2012-2019            9     False    1.000000\n13  2012-2019            9      True    0.003965\n14       2020            3     False    1.000000\n15       2020            4     False    0.998168\n16       2020            4      True    0.001832\n17       2020            5     False    1.000000\n18       2020            6     False    0.998185\n19       2020            6      True    0.001815\n20       2020            7     False    1.000000\n21       2020            8     False    1.000000\n22       2020            9     False    0.997283\n23       2020            9      True    0.002717",
      "text/html": "<div>\n<style scoped>\n    .dataframe tbody tr th:only-of-type {\n        vertical-align: middle;\n    }\n\n    .dataframe tbody tr th {\n        vertical-align: top;\n    }\n\n    .dataframe thead th {\n        text-align: right;\n    }\n</style>\n<table border=\"1\" class=\"dataframe\">\n  <thead>\n    <tr style=\"text-align: right;\">\n      <th></th>\n      <th>YEAR_2020</th>\n      <th>BIRTH_MONTH</th>\n      <th>Deceased</th>\n      <th>births_pct</th>\n    </tr>\n  </thead>\n  <tbody>\n    <tr>\n      <th>0</th>\n      <td>2012-2019</td>\n      <td>3</td>\n      <td>False</td>\n      <td>0.998382</td>\n    </tr>\n    <tr>\n      <th>1</th>\n      <td>2012-2019</td>\n      <td>3</td>\n      <td>True</td>\n      <td>0.003375</td>\n    </tr>\n    <tr>\n      <th>2</th>\n      <td>2012-2019</td>\n      <td>4</td>\n      <td>False</td>\n      <td>0.997403</td>\n    </tr>\n    <tr>\n      <th>3</th>\n      <td>2012-2019</td>\n      <td>4</td>\n      <td>True</td>\n      <td>0.003252</td>\n    </tr>\n    <tr>\n      <th>4</th>\n      <td>2012-2019</td>\n      <td>5</td>\n      <td>False</td>\n      <td>0.998261</td>\n    </tr>\n    <tr>\n      <th>5</th>\n      <td>2012-2019</td>\n      <td>5</td>\n      <td>True</td>\n      <td>0.003035</td>\n    </tr>\n    <tr>\n      <th>6</th>\n      <td>2012-2019</td>\n      <td>6</td>\n      <td>False</td>\n      <td>0.997429</td>\n    </tr>\n    <tr>\n      <th>7</th>\n      <td>2012-2019</td>\n      <td>6</td>\n      <td>True</td>\n      <td>0.003703</td>\n    </tr>\n    <tr>\n      <th>8</th>\n      <td>2012-2019</td>\n      <td>7</td>\n      <td>False</td>\n      <td>0.998467</td>\n    </tr>\n    <tr>\n      <th>9</th>\n      <td>2012-2019</td>\n      <td>7</td>\n      <td>True</td>\n      <td>0.001873</td>\n    </tr>\n    <tr>\n      <th>10</th>\n      <td>2012-2019</td>\n      <td>8</td>\n      <td>False</td>\n      <td>0.997579</td>\n    </tr>\n    <tr>\n      <th>11</th>\n      <td>2012-2019</td>\n      <td>8</td>\n      <td>True</td>\n      <td>0.003752</td>\n    </tr>\n    <tr>\n      <th>12</th>\n      <td>2012-2019</td>\n      <td>9</td>\n      <td>False</td>\n      <td>1.000000</td>\n    </tr>\n    <tr>\n      <th>13</th>\n      <td>2012-2019</td>\n      <td>9</td>\n      <td>True</td>\n      <td>0.003965</td>\n    </tr>\n    <tr>\n      <th>14</th>\n      <td>2020</td>\n      <td>3</td>\n      <td>False</td>\n      <td>1.000000</td>\n    </tr>\n    <tr>\n      <th>15</th>\n      <td>2020</td>\n      <td>4</td>\n      <td>False</td>\n      <td>0.998168</td>\n    </tr>\n    <tr>\n      <th>16</th>\n      <td>2020</td>\n      <td>4</td>\n      <td>True</td>\n      <td>0.001832</td>\n    </tr>\n    <tr>\n      <th>17</th>\n      <td>2020</td>\n      <td>5</td>\n      <td>False</td>\n      <td>1.000000</td>\n    </tr>\n    <tr>\n      <th>18</th>\n      <td>2020</td>\n      <td>6</td>\n      <td>False</td>\n      <td>0.998185</td>\n    </tr>\n    <tr>\n      <th>19</th>\n      <td>2020</td>\n      <td>6</td>\n      <td>True</td>\n      <td>0.001815</td>\n    </tr>\n    <tr>\n      <th>20</th>\n      <td>2020</td>\n      <td>7</td>\n      <td>False</td>\n      <td>1.000000</td>\n    </tr>\n    <tr>\n      <th>21</th>\n      <td>2020</td>\n      <td>8</td>\n      <td>False</td>\n      <td>1.000000</td>\n    </tr>\n    <tr>\n      <th>22</th>\n      <td>2020</td>\n      <td>9</td>\n      <td>False</td>\n      <td>0.997283</td>\n    </tr>\n    <tr>\n      <th>23</th>\n      <td>2020</td>\n      <td>9</td>\n      <td>True</td>\n      <td>0.002717</td>\n    </tr>\n  </tbody>\n</table>\n</div>"
     },
     "metadata": {},
     "execution_count": 15
    }
   ],
   "source": [
    "## Mortality\n",
    "analysis_df = birth_df.loc[birth_df.lockdown_group != 'precovid']\n",
    "count_df_mortality = analysis_df[['PAT_ID']].groupby([analysis_df.BIRTH_YEAR, analysis_df.BIRTH_MONTH, ~birth_df.DEATH_DATE.isnull()]).count().reset_index().rename(columns={'PAT_ID': 'Births', 'DEATH_DATE': 'Deceased'})\n",
    "\n",
    "c = count_df_mortality.groupby(['BIRTH_YEAR', 'BIRTH_MONTH', 'Deceased'])['Births'].sum().rename(\"births_pct\")\n",
    "pct_df = c / c.groupby(level=[0, 1]).sum()\n",
    "pct_df = pct_df.reset_index()\n",
    "pct_df['Births'] = count_df_mortality.Births\n",
    "pct_df['YEAR_2020'] = '2012-2019'\n",
    "pct_df.loc[pct_df.BIRTH_YEAR == 2020, 'YEAR_2020'] = '2020'\n",
    "pct_df_mortality = pct_df.groupby(['YEAR_2020', 'BIRTH_MONTH', 'Deceased'])['births_pct'].median().reset_index()\n",
    "pct_df_mortality\n",
    "\n"
   ]
  },
  {
   "cell_type": "code",
   "execution_count": 16,
   "metadata": {},
   "outputs": [
    {
     "output_type": "execute_result",
     "data": {
      "text/plain": "            Outcome  YEAR_2020  BIRTH_MONTH  births_pct\n0         Mortality  2012-2019            3    0.003375\n1         Mortality  2012-2019            4    0.003252\n2         Mortality  2012-2019            5    0.003035\n3         Mortality  2012-2019            6    0.003703\n4         Mortality  2012-2019            7    0.001873\n5         Mortality  2012-2019            8    0.003752\n6         Mortality  2012-2019            9    0.003965\n7         Mortality       2020            4    0.001832\n8         Mortality       2020            6    0.001815\n9         Mortality       2020            9    0.002717\n10  NICU admissions  2012-2019            3    0.062706\n11  NICU admissions  2012-2019            4    0.053257\n12  NICU admissions  2012-2019            5    0.060270\n13  NICU admissions  2012-2019            6    0.063423\n14  NICU admissions  2012-2019            7    0.065668\n15  NICU admissions  2012-2019            8    0.067624\n16  NICU admissions  2012-2019            9    0.057125\n17  NICU admissions       2020            3    0.111801\n18  NICU admissions       2020            4    0.097070\n19  NICU admissions       2020            5    0.074205\n20  NICU admissions       2020            6    0.067151\n21  NICU admissions       2020            7    0.080696\n22  NICU admissions       2020            8    0.064725\n23  NICU admissions       2020            9    0.076087",
      "text/html": "<div>\n<style scoped>\n    .dataframe tbody tr th:only-of-type {\n        vertical-align: middle;\n    }\n\n    .dataframe tbody tr th {\n        vertical-align: top;\n    }\n\n    .dataframe thead th {\n        text-align: right;\n    }\n</style>\n<table border=\"1\" class=\"dataframe\">\n  <thead>\n    <tr style=\"text-align: right;\">\n      <th></th>\n      <th>Outcome</th>\n      <th>YEAR_2020</th>\n      <th>BIRTH_MONTH</th>\n      <th>births_pct</th>\n    </tr>\n  </thead>\n  <tbody>\n    <tr>\n      <th>0</th>\n      <td>Mortality</td>\n      <td>2012-2019</td>\n      <td>3</td>\n      <td>0.003375</td>\n    </tr>\n    <tr>\n      <th>1</th>\n      <td>Mortality</td>\n      <td>2012-2019</td>\n      <td>4</td>\n      <td>0.003252</td>\n    </tr>\n    <tr>\n      <th>2</th>\n      <td>Mortality</td>\n      <td>2012-2019</td>\n      <td>5</td>\n      <td>0.003035</td>\n    </tr>\n    <tr>\n      <th>3</th>\n      <td>Mortality</td>\n      <td>2012-2019</td>\n      <td>6</td>\n      <td>0.003703</td>\n    </tr>\n    <tr>\n      <th>4</th>\n      <td>Mortality</td>\n      <td>2012-2019</td>\n      <td>7</td>\n      <td>0.001873</td>\n    </tr>\n    <tr>\n      <th>5</th>\n      <td>Mortality</td>\n      <td>2012-2019</td>\n      <td>8</td>\n      <td>0.003752</td>\n    </tr>\n    <tr>\n      <th>6</th>\n      <td>Mortality</td>\n      <td>2012-2019</td>\n      <td>9</td>\n      <td>0.003965</td>\n    </tr>\n    <tr>\n      <th>7</th>\n      <td>Mortality</td>\n      <td>2020</td>\n      <td>4</td>\n      <td>0.001832</td>\n    </tr>\n    <tr>\n      <th>8</th>\n      <td>Mortality</td>\n      <td>2020</td>\n      <td>6</td>\n      <td>0.001815</td>\n    </tr>\n    <tr>\n      <th>9</th>\n      <td>Mortality</td>\n      <td>2020</td>\n      <td>9</td>\n      <td>0.002717</td>\n    </tr>\n    <tr>\n      <th>10</th>\n      <td>NICU admissions</td>\n      <td>2012-2019</td>\n      <td>3</td>\n      <td>0.062706</td>\n    </tr>\n    <tr>\n      <th>11</th>\n      <td>NICU admissions</td>\n      <td>2012-2019</td>\n      <td>4</td>\n      <td>0.053257</td>\n    </tr>\n    <tr>\n      <th>12</th>\n      <td>NICU admissions</td>\n      <td>2012-2019</td>\n      <td>5</td>\n      <td>0.060270</td>\n    </tr>\n    <tr>\n      <th>13</th>\n      <td>NICU admissions</td>\n      <td>2012-2019</td>\n      <td>6</td>\n      <td>0.063423</td>\n    </tr>\n    <tr>\n      <th>14</th>\n      <td>NICU admissions</td>\n      <td>2012-2019</td>\n      <td>7</td>\n      <td>0.065668</td>\n    </tr>\n    <tr>\n      <th>15</th>\n      <td>NICU admissions</td>\n      <td>2012-2019</td>\n      <td>8</td>\n      <td>0.067624</td>\n    </tr>\n    <tr>\n      <th>16</th>\n      <td>NICU admissions</td>\n      <td>2012-2019</td>\n      <td>9</td>\n      <td>0.057125</td>\n    </tr>\n    <tr>\n      <th>17</th>\n      <td>NICU admissions</td>\n      <td>2020</td>\n      <td>3</td>\n      <td>0.111801</td>\n    </tr>\n    <tr>\n      <th>18</th>\n      <td>NICU admissions</td>\n      <td>2020</td>\n      <td>4</td>\n      <td>0.097070</td>\n    </tr>\n    <tr>\n      <th>19</th>\n      <td>NICU admissions</td>\n      <td>2020</td>\n      <td>5</td>\n      <td>0.074205</td>\n    </tr>\n    <tr>\n      <th>20</th>\n      <td>NICU admissions</td>\n      <td>2020</td>\n      <td>6</td>\n      <td>0.067151</td>\n    </tr>\n    <tr>\n      <th>21</th>\n      <td>NICU admissions</td>\n      <td>2020</td>\n      <td>7</td>\n      <td>0.080696</td>\n    </tr>\n    <tr>\n      <th>22</th>\n      <td>NICU admissions</td>\n      <td>2020</td>\n      <td>8</td>\n      <td>0.064725</td>\n    </tr>\n    <tr>\n      <th>23</th>\n      <td>NICU admissions</td>\n      <td>2020</td>\n      <td>9</td>\n      <td>0.076087</td>\n    </tr>\n  </tbody>\n</table>\n</div>"
     },
     "metadata": {},
     "execution_count": 16
    }
   ],
   "source": [
    "# combine NICU and mortality into single dataframe\n",
    "pct_df_mortality_clean = pct_df_mortality.loc[pct_df_mortality.Deceased].drop(columns=['Deceased'])\n",
    "pct_df_nicu_clean = pct_df_nicu.loc[pct_df_nicu.DEPARTMENT == 'NICU'].drop(columns=['DEPARTMENT'])\n",
    "pct_df = pd.concat([pct_df_mortality_clean, pct_df_nicu_clean], keys=['Mortality', 'NICU admissions']).reset_index().rename(columns={'level_0': 'Outcome'}).drop(columns=['level_1'])\n",
    "pct_df.to_csv(DEID_DATA_DIR + 'monthly_mortality_and_nicu_lockdownOnly.tsv', sep='\\t', index=False)\n",
    "pct_df"
   ]
  },
  {
   "source": [
    "## Medians for Length of Stay"
   ],
   "cell_type": "markdown",
   "metadata": {}
  },
  {
   "cell_type": "code",
   "execution_count": 45,
   "metadata": {
    "tags": []
   },
   "outputs": [
    {
     "output_type": "stream",
     "name": "stdout",
     "text": "   YEAR_2020   LOS_days\n0  2012-2019  16.871530\n1       2020  11.484321\n"
    }
   ],
   "source": [
    "analysis_df = birth_df.loc[birth_df.lockdown_group != 'precovid']\n",
    "analysis_df =analysis_df.loc[analysis_df.DEPARTMENT == 'NICU']\n",
    "analysis_df['LOS_days'] = analysis_df.LOS.dt.days\n",
    "analysis_df['YEAR_2020'] = '2012-2019'\n",
    "analysis_df.loc[analysis_df.BIRTH_YEAR == 2020, 'YEAR_2020'] = '2020'\n",
    "\n",
    "#  analysis_df.BIRTH_MONTH; mean and median are lower\n",
    "print(analysis_df[['LOS_days']].groupby([analysis_df.YEAR_2020]).mean().reset_index())\n",
    "analysis_df[['BIRTH_YEAR', 'YEAR_2020', 'LOS_days']].to_csv(DEID_DATA_DIR + 'LOS_days_NICU.tsv', sep='\\t', index=False)\n"
   ]
  },
  {
   "cell_type": "markdown",
   "metadata": {},
   "source": [
    "## Monthly counts and medians for prematurity groups"
   ]
  },
  {
   "cell_type": "code",
   "execution_count": 19,
   "metadata": {
    "tags": []
   },
   "outputs": [],
   "source": [
    "# BW_category GA_category\n",
    "analysis_grouping = 'GA_category'\n",
    "\n",
    "analysis_df = birth_df.loc[birth_df.lockdown_group != 'precovid']\n",
    "analysis_df = analysis_df.loc[analysis_df[analysis_grouping] != 'Not recorded']\n",
    "count_df_ga = analysis_df[['PAT_ID']].groupby([analysis_df.BIRTH_YEAR, analysis_df.BIRTH_MONTH, analysis_df[analysis_grouping]]).count().reset_index().rename(columns={'PAT_ID': 'Births'})\n",
    "\n",
    "# get percentages\n",
    "c = count_df_ga.groupby(['BIRTH_YEAR', 'BIRTH_MONTH', analysis_grouping])['Births'].sum().rename(\"births_pct\")\n",
    "pct_df = c / c.groupby(level=[0, 1]).sum()\n",
    "pct_df = pct_df.reset_index()\n",
    "pct_df['Births'] = count_df_ga.Births\n",
    "# calculate medians\n",
    "pct_df['YEAR_2020'] = '2012-2019'\n",
    "pct_df.loc[pct_df.BIRTH_YEAR == 2020, 'YEAR_2020'] = '2020'\n",
    "pct_df_ga = pct_df.groupby(['YEAR_2020', 'BIRTH_MONTH', analysis_grouping])['births_pct'].median().reset_index()\n",
    "\n",
    "# fill not-represented rows with 0\n",
    "# pd.crosstab(pct_df_ga.YEAR_2020, pct_df_ga.GA_category, pct_df_ga.BIRTH_MONTH)\n",
    "data_dict = pct_df_ga[['YEAR_2020', 'BIRTH_MONTH', analysis_grouping]].to_dict(orient='list')\n",
    "rows = itertools.product(*data_dict.values())\n",
    "tmp_df = pd.DataFrame.from_records(rows, columns=data_dict.keys()).drop_duplicates().reset_index(drop=True)\n",
    "pct_df_ga = pct_df_ga.merge(tmp_df, how='outer').drop_duplicates().reset_index(drop=True).fillna(0)\n",
    "\n",
    "# monthly_ga.tsv monthly_bw.tsv\n",
    "pct_df_ga.to_csv(DEID_DATA_DIR + 'monthly_ga.tsv', sep='\\t', index=False)"
   ]
  },
  {
   "cell_type": "code",
   "execution_count": 20,
   "metadata": {},
   "outputs": [
    {
     "output_type": "execute_result",
     "data": {
      "text/plain": "    YEAR_2020  BIRTH_MONTH              GA_category  births_pct\n0   2012-2019            3      Extremely premature    0.005272\n1   2012-2019            3                Late term    0.003619\n2   2012-2019            3  Moderate/late premature    0.068054\n3   2012-2019            3                     Term    0.922039\n4   2012-2019            3           Very premature    0.008230\n..        ...          ...                      ...         ...\n65       2020            8      Extremely premature    0.000000\n66       2020            8                Late term    0.000000\n67       2020            8           Very premature    0.000000\n68       2020            9      Extremely premature    0.000000\n69       2020            9           Very premature    0.000000\n\n[70 rows x 4 columns]",
      "text/html": "<div>\n<style scoped>\n    .dataframe tbody tr th:only-of-type {\n        vertical-align: middle;\n    }\n\n    .dataframe tbody tr th {\n        vertical-align: top;\n    }\n\n    .dataframe thead th {\n        text-align: right;\n    }\n</style>\n<table border=\"1\" class=\"dataframe\">\n  <thead>\n    <tr style=\"text-align: right;\">\n      <th></th>\n      <th>YEAR_2020</th>\n      <th>BIRTH_MONTH</th>\n      <th>GA_category</th>\n      <th>births_pct</th>\n    </tr>\n  </thead>\n  <tbody>\n    <tr>\n      <th>0</th>\n      <td>2012-2019</td>\n      <td>3</td>\n      <td>Extremely premature</td>\n      <td>0.005272</td>\n    </tr>\n    <tr>\n      <th>1</th>\n      <td>2012-2019</td>\n      <td>3</td>\n      <td>Late term</td>\n      <td>0.003619</td>\n    </tr>\n    <tr>\n      <th>2</th>\n      <td>2012-2019</td>\n      <td>3</td>\n      <td>Moderate/late premature</td>\n      <td>0.068054</td>\n    </tr>\n    <tr>\n      <th>3</th>\n      <td>2012-2019</td>\n      <td>3</td>\n      <td>Term</td>\n      <td>0.922039</td>\n    </tr>\n    <tr>\n      <th>4</th>\n      <td>2012-2019</td>\n      <td>3</td>\n      <td>Very premature</td>\n      <td>0.008230</td>\n    </tr>\n    <tr>\n      <th>...</th>\n      <td>...</td>\n      <td>...</td>\n      <td>...</td>\n      <td>...</td>\n    </tr>\n    <tr>\n      <th>65</th>\n      <td>2020</td>\n      <td>8</td>\n      <td>Extremely premature</td>\n      <td>0.000000</td>\n    </tr>\n    <tr>\n      <th>66</th>\n      <td>2020</td>\n      <td>8</td>\n      <td>Late term</td>\n      <td>0.000000</td>\n    </tr>\n    <tr>\n      <th>67</th>\n      <td>2020</td>\n      <td>8</td>\n      <td>Very premature</td>\n      <td>0.000000</td>\n    </tr>\n    <tr>\n      <th>68</th>\n      <td>2020</td>\n      <td>9</td>\n      <td>Extremely premature</td>\n      <td>0.000000</td>\n    </tr>\n    <tr>\n      <th>69</th>\n      <td>2020</td>\n      <td>9</td>\n      <td>Very premature</td>\n      <td>0.000000</td>\n    </tr>\n  </tbody>\n</table>\n<p>70 rows × 4 columns</p>\n</div>"
     },
     "metadata": {},
     "execution_count": 20
    }
   ],
   "source": [
    "pct_df_ga"
   ]
  },
  {
   "source": [
    "## Statistical tests (GA comparison, NICU admission, mortality)"
   ],
   "cell_type": "markdown",
   "metadata": {}
  },
  {
   "cell_type": "code",
   "execution_count": 63,
   "metadata": {
    "tags": []
   },
   "outputs": [
    {
     "output_type": "stream",
     "name": "stdout",
     "text": "RanksumsResult(statistic=-4.085144169924083, pvalue=4.4049457470324234e-05)\n39.285714285714285\n39.42857142857143\nTtest_indResult(statistic=-1.108488464428895, pvalue=0.26765953532830766)\n39.17964095797849\n39.21430920451639\n"
    }
   ],
   "source": [
    "analysis_grouping = 'GA_category'\n",
    "analysis_df = birth_df.loc[birth_df.lockdown_group != 'precovid']\n",
    "analysis_df = analysis_df.loc[analysis_df[analysis_grouping] != 'Not recorded']\n",
    "# analysis_df['YEAR_2020'] = '2012-2019'\n",
    "# analysis_df.loc[analysis_df.BIRTH_YEAR == 2020, 'YEAR_2020'] = '2020'\n",
    "\n",
    "## wilcoxon-rank-sum test\n",
    "# analysis_df = analysis_df[['YEAR_2020', 'GA_WKS']]\n",
    "GA_pre2020 = analysis_df.loc[analysis_df.BIRTH_YEAR == 2020]['GA_WKS'].values\n",
    "GA_2020 = analysis_df.loc[analysis_df.BIRTH_YEAR != 2020]['GA_WKS'].values\n",
    "print(ranksums(pre2020_GA, GA_2020))\n",
    "print(np.median(GA_pre2020))\n",
    "print(np.median(GA_2020))\n",
    "aprint(ttest_ind(pre2020_GA, GA_2020))\n",
    "print(GA_pre2020.mean())\n",
    "print(GA_2020.mean())"
   ]
  },
  {
   "cell_type": "code",
   "execution_count": 59,
   "metadata": {},
   "outputs": [
    {
     "output_type": "execute_result",
     "data": {
      "text/plain": "24498"
     },
     "metadata": {},
     "execution_count": 59
    }
   ],
   "source": [
    "# 28101-3603"
   ]
  },
  {
   "cell_type": "code",
   "execution_count": null,
   "metadata": {},
   "outputs": [],
   "source": [
    "analysis_df = birth_df.loc[birth_df.lockdown_group != 'precovid']\n",
    "analysis_df['YEAR_2020'] = '2012-2019'\n",
    "analysis_df.loc[analysis_df.BIRTH_YEAR == 2020, 'YEAR_2020'] = '2020'\n"
   ]
  }
 ]
}